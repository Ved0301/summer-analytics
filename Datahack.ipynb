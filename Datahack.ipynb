{
 "cells": [
  {
   "cell_type": "code",
   "execution_count": 1,
   "id": "5fd72c1f",
   "metadata": {},
   "outputs": [],
   "source": [
    "import numpy as np\n",
    "import pandas as pd\n",
    "from sklearn.model_selection import train_test_split\n",
    "from sklearn.linear_model import LogisticRegression\n",
    "from sklearn.multioutput import MultiOutputClassifier\n",
    "from sklearn.preprocessing import StandardScaler\n",
    "from sklearn.metrics import classification_report, roc_auc_score\n"
   ]
  },
  {
   "cell_type": "code",
   "execution_count": 2,
   "id": "3d24cb8d",
   "metadata": {},
   "outputs": [],
   "source": [
    "# Load your data from CSV files\n",
    "X_train = pd.read_csv('C:\\\\Users\\\\vedan\\\\Downloads\\\\dataset and all\\\\training_set_features.csv')\n",
    "Y_train = pd.read_csv('C:\\\\Users\\\\vedan\\\\Downloads\\\\dataset and all\\\\training_set_labels.csv')\n"
   ]
  },
  {
   "cell_type": "code",
   "execution_count": 3,
   "id": "c9bf591c",
   "metadata": {},
   "outputs": [],
   "source": [
    "# Drop specified columns\n",
    "columns_to_drop = ['age_group', 'education', 'race', 'sex', 'income_poverty',\n",
    "                   'marital_status', 'rent_or_own', 'employment_status', 'hhs_geo_region',\n",
    "                   'census_msa', 'employment_industry', 'employment_occupation']\n",
    "X_train = X_train.drop(columns=columns_to_drop, axis=1)\n"
   ]
  },
  {
   "cell_type": "code",
   "execution_count": 4,
   "id": "79cfcee6",
   "metadata": {},
   "outputs": [],
   "source": [
    "# Combine X_train and Y_train to drop NaN values simultaneously\n",
    "combined = pd.concat([X_train, Y_train], axis=1)\n",
    "\n",
    "# Drop rows with any NaN values\n",
    "combined = combined.dropna()\n",
    "\n",
    "# Split the combined DataFrame back into X_train and Y_train\n",
    "X_train = combined.iloc[:, :-2]\n",
    "Y_train = combined.iloc[:, -2:]\n"
   ]
  },
  {
   "cell_type": "code",
   "execution_count": 5,
   "id": "db6f3a4f",
   "metadata": {},
   "outputs": [],
   "source": [
    "# Replace infinite values with NaN and then handle them\n",
    "X_train.replace([np.inf, -np.inf], np.nan, inplace=True)\n",
    "X_train = X_train.fillna(X_train.mean())\n",
    "\n",
    "# Scale the data to handle extremely large values\n",
    "scaler = StandardScaler()\n",
    "X_train = scaler.fit_transform(X_train)\n"
   ]
  },
  {
   "cell_type": "code",
   "execution_count": 6,
   "id": "a928d028",
   "metadata": {},
   "outputs": [
    {
     "name": "stdout",
     "output_type": "stream",
     "text": [
      "(13506, 25)\n",
      "(13506, 2)\n"
     ]
    }
   ],
   "source": [
    "# Ensure both DataFrames have the same number of rows\n",
    "print(X_train.shape)\n",
    "print(Y_train.shape)\n",
    "\n"
   ]
  },
  {
   "cell_type": "code",
   "execution_count": 7,
   "id": "e029405d",
   "metadata": {},
   "outputs": [
    {
     "name": "stdout",
     "output_type": "stream",
     "text": [
      "              precision    recall  f1-score   support\n",
      "\n",
      "           0       0.75      0.58      0.65      4031\n",
      "           1       0.79      0.77      0.78      6802\n",
      "\n",
      "   micro avg       0.78      0.70      0.74     10833\n",
      "   macro avg       0.77      0.68      0.72     10833\n",
      "weighted avg       0.77      0.70      0.73     10833\n",
      " samples avg       0.40      0.38      0.38     10833\n",
      "\n",
      "ROC AUC for xyz_vaccine: 0.8535283740981012\n",
      "ROC AUC for seasonal_vaccine: 0.8570731556912575\n",
      "Mean ROC AUC: 0.8553007648946793\n"
     ]
    },
    {
     "name": "stderr",
     "output_type": "stream",
     "text": [
      "C:\\Users\\vedan\\anaconda3\\lib\\site-packages\\sklearn\\metrics\\_classification.py:1318: UndefinedMetricWarning: Precision and F-score are ill-defined and being set to 0.0 in samples with no predicted labels. Use `zero_division` parameter to control this behavior.\n",
      "  _warn_prf(average, modifier, msg_start, len(result))\n",
      "C:\\Users\\vedan\\anaconda3\\lib\\site-packages\\sklearn\\metrics\\_classification.py:1318: UndefinedMetricWarning: Recall and F-score are ill-defined and being set to 0.0 in samples with no true labels. Use `zero_division` parameter to control this behavior.\n",
      "  _warn_prf(average, modifier, msg_start, len(result))\n"
     ]
    }
   ],
   "source": [
    "# Initialize logistic regression model\n",
    "logreg = LogisticRegression(solver='lbfgs', max_iter=1000)\n",
    "\n",
    "# Use MultiOutputClassifier for multilabel classification\n",
    "clf = MultiOutputClassifier(logreg)\n",
    "\n",
    "# Train the model\n",
    "clf.fit(X_train, Y_train)\n",
    "\n",
    "# Predict on the training set itself (for demonstration purposes)\n",
    "y_pred = clf.predict(X_train)\n",
    "\n",
    "# Print classification report\n",
    "print(classification_report(Y_train, y_pred))\n",
    "\n",
    "# Predict probabilities for ROC AUC\n",
    "y_prob = clf.predict_proba(X_train)\n",
    "\n",
    "# Calculate ROC AUC score for each target\n",
    "roc_auc_xyz = roc_auc_score(Y_train.iloc[:, 0], y_prob[0][:, 1])\n",
    "roc_auc_seasonal = roc_auc_score(Y_train.iloc[:, 1], y_prob[1][:, 1])\n",
    "mean_roc_auc = (roc_auc_xyz + roc_auc_seasonal) / 2\n",
    "\n",
    "print(f'ROC AUC for xyz_vaccine: {roc_auc_xyz}')\n",
    "print(f'ROC AUC for seasonal_vaccine: {roc_auc_seasonal}')\n",
    "print(f'Mean ROC AUC: {mean_roc_auc}')\n"
   ]
  },
  {
   "cell_type": "code",
   "execution_count": null,
   "id": "c8177302",
   "metadata": {},
   "outputs": [],
   "source": []
  }
 ],
 "metadata": {
  "kernelspec": {
   "display_name": "Python 3 (ipykernel)",
   "language": "python",
   "name": "python3"
  },
  "language_info": {
   "codemirror_mode": {
    "name": "ipython",
    "version": 3
   },
   "file_extension": ".py",
   "mimetype": "text/x-python",
   "name": "python",
   "nbconvert_exporter": "python",
   "pygments_lexer": "ipython3",
   "version": "3.9.13"
  }
 },
 "nbformat": 4,
 "nbformat_minor": 5
}
